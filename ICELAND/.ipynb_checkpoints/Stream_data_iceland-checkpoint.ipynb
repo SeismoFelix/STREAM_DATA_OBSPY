{
 "cells": [
  {
   "cell_type": "markdown",
   "id": "4bc7ee74-f61d-4902-830e-f7c67703e6e2",
   "metadata": {},
   "source": [
    "### Script for downloading Icelandic data via Obspy. \n",
    "Félix Rodríguez-Cardozo"
   ]
  },
  {
   "cell_type": "code",
   "execution_count": null,
   "id": "dc71e46e-c018-4c13-9751-62995069aefd",
   "metadata": {},
   "outputs": [],
   "source": [
    "from obspy import read\n",
    "from obspy.clients.fdsn import Client\n",
    "from obspy import UTCDateTime\n",
    "import matplotlib.pyplot as plt"
   ]
  },
  {
   "cell_type": "code",
   "execution_count": null,
   "id": "e57748f2-d80a-47a1-8f45-bae99cee706e",
   "metadata": {},
   "outputs": [],
   "source": [
    "#Cambridge data can be found with the Z7 network code\n",
    "client = Client(\"IRIS\")\n",
    "net = \"Z7\"  #network of the station\n",
    "sta = \"*\"  #station code\n",
    "loc = \"*\"  #to specify the instrument at the station\n",
    "chan = \"*\" #all components"
   ]
  },
  {
   "cell_type": "markdown",
   "id": "8dac6239-dc43-40d5-ade2-10e8e557d2f8",
   "metadata": {},
   "source": [
    "#### Event information \n",
    "We are going download data from a [Mw. 5.1 event in Iceland on 31st August 2014](https://www.globalcmt.org/cgi-bin/globalcmt-cgi-bin/CMT5/form?itype=ymd&yr=2014&mo=08&day=31&oyr=1976&omo=1&oday=1&jyr=1976&jday=1&ojyr=1976&ojday=1&otype=nd&nday=1&lmw=0&umw=10&lms=0&ums=10&lmb=0&umb=10&llat=-90&ulat=90&llon=-180&ulon=180&lhd=0&uhd=1000&lts=-9999&uts=9999&lpe1=0&upe1=90&lpe2=0&upe2=90&list=0) taken from GCMT."
   ]
  },
  {
   "cell_type": "code",
   "execution_count": null,
   "id": "cbade72f-da50-489b-a58b-9e0f039372cf",
   "metadata": {},
   "outputs": [],
   "source": [
    "#Event information for streaming the data\n",
    "eventTime = UTCDateTime(\"2014-08-31T12:01:52\")\n",
    "starttime = eventTime - 60  # 1 minute before the event\n",
    "endtime = eventTime + 7 * 60  # 15 minutes after the event\n",
    "event_lat = 64.66\n",
    "event_lon = -17.01\n",
    "event_depth  = 6.0 #This is from me, GCMT depths are too deep"
   ]
  },
  {
   "cell_type": "code",
   "execution_count": null,
   "id": "b17ed3ff-6e5a-408c-b7b4-ff28e38f3778",
   "metadata": {},
   "outputs": [],
   "source": [
    "#Request the data\n",
    "stream_iceland = client.get_waveforms(net, sta, loc, chan, starttime, endtime, attach_response=True)"
   ]
  },
  {
   "cell_type": "code",
   "execution_count": null,
   "id": "45d83de8-b3be-4910-a23f-7d301f6a9ddd",
   "metadata": {},
   "outputs": [],
   "source": [
    "#Security copy just in case\n",
    "stream = stream_iceland.copy()"
   ]
  },
  {
   "cell_type": "code",
   "execution_count": null,
   "id": "a8c867b8-6079-44d1-849b-248905ea72d1",
   "metadata": {},
   "outputs": [],
   "source": [
    "#Removing the instrumental response to displacement and writing SAC files.\n",
    "#If something fails, run the previous block of code. Do not remove the IR twice.\n",
    "! mkdir 'DATA'\n",
    "for tr in stream:\n",
    "    tr.detrend(\"linear\")\n",
    "    tr.detrend(\"demean\")\n",
    "    pre_filt = [0.001, 0.005, 45, 50]\n",
    "    tr.remove_response(pre_filt=pre_filt,output=\"DISP\",water_level=60,taper=True,taper_fraction=0.1,plot=False)\n",
    "    name = 'DATA/{}.{}.{}.{}.{}'.format('20140831120152',tr.stats.network,tr.stats.location,tr.stats.station,tr.stats.channel)\n",
    "    tr.write(name,format=\"SAC\")"
   ]
  },
  {
   "cell_type": "code",
   "execution_count": null,
   "id": "40eb9d6d-4f6d-4418-81e2-eca957b74240",
   "metadata": {},
   "outputs": [],
   "source": [
    "#Gather station information\n",
    "inv = client.get_stations(starttime=starttime,endtime=endtime,network=\"Z7\",station=\"*\",location=\"*\",channel=\"*Z\",level=\"response\")"
   ]
  },
  {
   "cell_type": "code",
   "execution_count": null,
   "id": "83c52ae1-2cf5-45f0-bbb0-5d93df9f0faa",
   "metadata": {},
   "outputs": [],
   "source": [
    "#Make station lists\n",
    "st_list = open('stations_Iceland.txt','w')\n",
    "st_list.write('NAME LATITUDE LONGITUDE ELEVATION(m)\\n')\n",
    "for st in inv[0]:\n",
    "    print(st.code,st.latitude,st.longitude,st.elevation)\n",
    "    st_list.write('{} {} {}\\n'.format(st.latitude,st.longitude,st.elevation))\n",
    "                  \n",
    "st_list.close()"
   ]
  },
  {
   "cell_type": "code",
   "execution_count": null,
   "id": "2841998f-2289-48ab-afde-7b90df77d670",
   "metadata": {},
   "outputs": [],
   "source": []
  }
 ],
 "metadata": {
  "kernelspec": {
   "display_name": "Python 3 (ipykernel)",
   "language": "python",
   "name": "python3"
  },
  "language_info": {
   "codemirror_mode": {
    "name": "ipython",
    "version": 3
   },
   "file_extension": ".py",
   "mimetype": "text/x-python",
   "name": "python",
   "nbconvert_exporter": "python",
   "pygments_lexer": "ipython3",
   "version": "3.8.13"
  }
 },
 "nbformat": 4,
 "nbformat_minor": 5
}
