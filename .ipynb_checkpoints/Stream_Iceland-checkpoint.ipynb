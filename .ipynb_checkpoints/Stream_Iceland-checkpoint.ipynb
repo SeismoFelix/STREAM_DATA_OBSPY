{
 "cells": [
  {
   "cell_type": "markdown",
   "id": "11aa6d77-3c11-41fe-ae66-5cee5c2fa27a",
   "metadata": {},
   "source": [
    "### Script for downloading Icelandic data via Obspy. \n",
    "Félix Rodríguez-Cardozo"
   ]
  },
  {
   "cell_type": "code",
   "execution_count": null,
   "id": "89cfc5cf-109f-4c83-a327-1871649a6cc4",
   "metadata": {},
   "outputs": [],
   "source": [
    "from obspy import read\n",
    "from obspy.clients.fdsn import Client\n",
    "from obspy import UTCDateTime\n",
    "from obspy import read_inventory"
   ]
  },
  {
   "cell_type": "code",
   "execution_count": null,
   "id": "9367fe11-ad1f-4bcc-a965-2d9213745dae",
   "metadata": {},
   "outputs": [],
   "source": [
    "#Cambridge data can be found with the Z7 network code\n",
    "client = Client(\"IRIS\")\n",
    "net = \"Z7\"  #network of the station\n",
    "sta = \"*\"  #station code\n",
    "loc = \"*\"  #to specify the instrument at the station\n",
    "chan = \"*\" #all components"
   ]
  },
  {
   "cell_type": "markdown",
   "id": "e1c0d249-2a30-41aa-b5a6-7d48aea62772",
   "metadata": {},
   "source": [
    "#### Event information \n",
    "We are going download data from a [Mw. 5.1 event in Iceland on 31st August 2014](https://www.globalcmt.org/cgi-bin/globalcmt-cgi-bin/CMT5/form?itype=ymd&yr=2014&mo=08&day=31&oyr=1976&omo=1&oday=1&jyr=1976&jday=1&ojyr=1976&ojday=1&otype=nd&nday=1&lmw=0&umw=10&lms=0&ums=10&lmb=0&umb=10&llat=-90&ulat=90&llon=-180&ulon=180&lhd=0&uhd=1000&lts=-9999&uts=9999&lpe1=0&upe1=90&lpe2=0&upe2=90&list=0) taken from GCMT."
   ]
  },
  {
   "cell_type": "code",
   "execution_count": null,
   "id": "930ce089-ef70-486c-9fa4-5751179600c0",
   "metadata": {},
   "outputs": [],
   "source": [
    "#Event information for streaming the data\n",
    "eventTime = UTCDateTime(\"2014-08-31T12:01:52\")\n",
    "starttime = eventTime - 60  # 1 minute before the event\n",
    "endtime = eventTime + 7 * 60  # 15 minutes after the event\n",
    "event_lat = 64.66\n",
    "event_long = -17.01\n",
    "event_depth  = 6.0 #This is from me, GCMT depths are too deep"
   ]
  },
  {
   "cell_type": "code",
   "execution_count": null,
   "id": "2edc2d28-1359-408a-9239-af2ffb73cc95",
   "metadata": {},
   "outputs": [],
   "source": [
    "#Request the data\n",
    "stream_iceland = client.get_waveforms(net, sta, loc, chan, starttime, endtime, attach_response=True)"
   ]
  },
  {
   "cell_type": "code",
   "execution_count": null,
   "id": "d63dc272-0d71-4768-9767-13420e31dc09",
   "metadata": {},
   "outputs": [],
   "source": [
    "#Security copy just in case\n",
    "stream = stream_iceland.copy()"
   ]
  },
  {
   "cell_type": "code",
   "execution_count": null,
   "id": "24648a39-c18f-4019-bcc4-aa932805e3bd",
   "metadata": {},
   "outputs": [],
   "source": [
    "#Removing the instrumental response to displacement and writing SAC files.\n",
    "#If something fails, run the previous block of code. Do not remove the IR twice.\n",
    "! mkdir 'DATA'\n",
    "for tr in stream:\n",
    "    tr.detrend(\"linear\")\n",
    "    tr.detrend(\"demean\")\n",
    "    pre_filt = [0.001, 0.005, 45, 50]\n",
    "    tr.remove_response(pre_filt=pre_filt,output=\"DISP\",water_level=60,taper=True,taper_fraction=0.1,plot=False)\n",
    "    name = 'DATA/{}.{}.{}.{}.{}'.format('20140831120152',tr.stats.network,tr.stats.location,tr.stats.station,tr.stats.channel)\n",
    "    tr.write(name,format=\"SAC\")"
   ]
  },
  {
   "cell_type": "code",
   "execution_count": null,
   "id": "160f8150-a30d-44cf-9805-237c44d940ff",
   "metadata": {},
   "outputs": [],
   "source": [
    "#Gather station information\n",
    "inv = client.get_stations(starttime=starttime,endtime=endtime,network=\"Z7\",station=\"*\",location=\"*\",channel=\"*Z\",level=\"response\")"
   ]
  },
  {
   "cell_type": "code",
   "execution_count": null,
   "id": "e523e7f1-748f-4fa0-9ea2-e583122fbdf8",
   "metadata": {},
   "outputs": [
    {
     "name": "stderr",
     "output_type": "stream",
     "text": [
      "Error in atexit._run_exitfuncs:\n",
      "Traceback (most recent call last):\n",
      "  File \"/Users/felix/opt/anaconda3/envs/mtuq/lib/python3.8/site-packages/IPython/core/interactiveshell.py\", line 3800, in atexit_operations\n",
      "    self._atexit_once()\n",
      "  File \"/Users/felix/opt/anaconda3/envs/mtuq/lib/python3.8/site-packages/IPython/core/interactiveshell.py\", line 3779, in _atexit_once\n",
      "    self.reset(new_session=False)\n",
      "  File \"/Users/felix/opt/anaconda3/envs/mtuq/lib/python3.8/site-packages/IPython/core/interactiveshell.py\", line 1366, in reset\n",
      "    self.history_manager.reset(new_session)\n",
      "  File \"/Users/felix/opt/anaconda3/envs/mtuq/lib/python3.8/site-packages/IPython/core/history.py\", line 594, in reset\n",
      "    self.dir_hist[:] = [Path.cwd()]\n",
      "  File \"/Users/felix/opt/anaconda3/envs/mtuq/lib/python3.8/pathlib.py\", line 1096, in cwd\n",
      "    return cls(os.getcwd())\n",
      "FileNotFoundError: [Errno 2] No such file or directory\n"
     ]
    }
   ],
   "source": [
    "#Make station lists\n",
    "st_list = open('stations_Iceland.txt','w')\n",
    "st_list.write('NAME LATITUDE LONGITUDE ELEVATION(m)\\n')\n",
    "for st in inv[0]:\n",
    "    print(st.code,st.latitude,st.longitude,st.elevation)\n",
    "    st_list.write('{} {} {}\\n'.format(st.latitude,st.longitude,st.elevation))\n",
    "                  \n",
    "st_list.close()"
   ]
  },
  {
   "cell_type": "code",
   "execution_count": null,
   "id": "d9b0bbb4-9f3f-4d27-b015-77174456bf57",
   "metadata": {},
   "outputs": [],
   "source": []
  }
 ],
 "metadata": {
  "kernelspec": {
   "display_name": "Python 3 (ipykernel)",
   "language": "python",
   "name": "python3"
  },
  "language_info": {
   "codemirror_mode": {
    "name": "ipython",
    "version": 3
   },
   "file_extension": ".py",
   "mimetype": "text/x-python",
   "name": "python",
   "nbconvert_exporter": "python",
   "pygments_lexer": "ipython3",
   "version": "3.8.13"
  }
 },
 "nbformat": 4,
 "nbformat_minor": 5
}
